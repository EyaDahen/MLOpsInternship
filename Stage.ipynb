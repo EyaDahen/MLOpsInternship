{
 "cells": [
  {
   "cell_type": "markdown",
   "id": "bc09ce6e",
   "metadata": {},
   "source": [
    "# **GROQ**"
   ]
  },
  {
   "cell_type": "code",
   "execution_count": null,
   "id": "96a5580f",
   "metadata": {},
   "outputs": [
    {
     "name": "stdout",
     "output_type": "stream",
     "text": [
      "Requirement already satisfied: groq in c:\\users\\dahen\\appdata\\local\\programs\\python\\python311\\lib\\site-packages (0.32.0)\n",
      "Requirement already satisfied: anyio<5,>=3.5.0 in c:\\users\\dahen\\appdata\\local\\programs\\python\\python311\\lib\\site-packages (from groq) (4.11.0)\n",
      "Requirement already satisfied: distro<2,>=1.7.0 in c:\\users\\dahen\\appdata\\local\\programs\\python\\python311\\lib\\site-packages (from groq) (1.9.0)\n",
      "Requirement already satisfied: httpx<1,>=0.23.0 in c:\\users\\dahen\\appdata\\local\\programs\\python\\python311\\lib\\site-packages (from groq) (0.28.1)\n",
      "Requirement already satisfied: pydantic<3,>=1.9.0 in c:\\users\\dahen\\appdata\\local\\programs\\python\\python311\\lib\\site-packages (from groq) (2.12.2)\n",
      "Requirement already satisfied: sniffio in c:\\users\\dahen\\appdata\\local\\programs\\python\\python311\\lib\\site-packages (from groq) (1.3.1)\n",
      "Requirement already satisfied: typing-extensions<5,>=4.10 in c:\\users\\dahen\\appdata\\roaming\\python\\python311\\site-packages (from groq) (4.15.0)\n",
      "Requirement already satisfied: idna>=2.8 in c:\\users\\dahen\\appdata\\local\\programs\\python\\python311\\lib\\site-packages (from anyio<5,>=3.5.0->groq) (3.11)\n",
      "Requirement already satisfied: certifi in c:\\users\\dahen\\appdata\\local\\programs\\python\\python311\\lib\\site-packages (from httpx<1,>=0.23.0->groq) (2025.10.5)\n",
      "Requirement already satisfied: httpcore==1.* in c:\\users\\dahen\\appdata\\local\\programs\\python\\python311\\lib\\site-packages (from httpx<1,>=0.23.0->groq) (1.0.9)\n",
      "Requirement already satisfied: h11>=0.16 in c:\\users\\dahen\\appdata\\local\\programs\\python\\python311\\lib\\site-packages (from httpcore==1.*->httpx<1,>=0.23.0->groq) (0.16.0)\n",
      "Requirement already satisfied: annotated-types>=0.6.0 in c:\\users\\dahen\\appdata\\local\\programs\\python\\python311\\lib\\site-packages (from pydantic<3,>=1.9.0->groq) (0.7.0)\n",
      "Requirement already satisfied: pydantic-core==2.41.4 in c:\\users\\dahen\\appdata\\local\\programs\\python\\python311\\lib\\site-packages (from pydantic<3,>=1.9.0->groq) (2.41.4)\n",
      "Requirement already satisfied: typing-inspection>=0.4.2 in c:\\users\\dahen\\appdata\\local\\programs\\python\\python311\\lib\\site-packages (from pydantic<3,>=1.9.0->groq) (0.4.2)\n"
     ]
    }
   ],
   "source": [
    "!pip install groq"
   ]
  },
  {
   "cell_type": "code",
   "execution_count": null,
   "id": "2beac5e7",
   "metadata": {},
   "outputs": [],
   "source": [
    "#Groq\n"
   ]
  },
  {
   "cell_type": "code",
   "execution_count": null,
   "id": "1012a4a6",
   "metadata": {},
   "outputs": [],
   "source": []
  },
  {
   "cell_type": "code",
   "execution_count": null,
   "id": "57d87d75",
   "metadata": {},
   "outputs": [],
   "source": [
    "from groq import Groq\n",
    "import os\n",
    "\n",
    "# Correctly set the API key\n",
    "groq_api_key = os.environ.get(\"GROQ_API_KEY\")\n",
    "\n",
    "# Initialize Groq with the API key directly\n",
    "groq_client = Groq(api_key=groq_api_key)\n",
    "\n",
    "# Check if the Groq client is initialized correctly\n",
    "if not groq_client:\n",
    "    raise Exception(\"Groq API key is missing!\")\n",
    "\n",
    "# Now you can use `groq_client` to interact with the Groq API\n"
   ]
  },
  {
   "cell_type": "code",
   "execution_count": null,
   "id": "b14c8379",
   "metadata": {},
   "outputs": [
    {
     "name": "stdout",
     "output_type": "stream",
     "text": [
      "\n",
      "📚 Description du module générée :\n",
      "\n",
      "**Module : Apprentissage par Renforcement**\n",
      "\n",
      "Dans ce module, les étudiants acquerront une compréhension approfondie des principes et des techniques fondamentales de l'apprentissage par renforcement, un paradigme d'apprentissage automatique qui permet aux agents de prendre des décisions dans des environnements dynamiques.\n",
      "\n",
      "**Compétences et connaissances**\n",
      "\n",
      "À la fin de ce module, les étudiants seront en mesure de :\n",
      "\n",
      "- Identifier les différences clés entre l'apprentissage par renforcement et d'autres paradigmes d'apprentissage automatique, tels que l'apprentissage supervisé et l'apprentissage non supervisé.\n",
      "- Décrire les concepts fondamentaux de l'apprentissage par renforcement, tels que les états, les actions, les récompenses et les politiques.\n",
      "- Formuler des problèmes de prise de décision comme des processus de décision markoviens, permettant aux agents de prendre des décisions optimales dans des environnements incertains.\n",
      "- Implémenter des algorithmes d'apprentissage par renforcement, tels que :\n",
      " + La programmation dynamique, qui permet de résoudre des problèmes de décision à long terme.\n",
      " + Les méthodes de Monte Carlo, qui permettent de simuler des environnements et d'évaluer des polit\n"
     ]
    }
   ],
   "source": [
    "import requests\n",
    "\n",
    "def generate_module_description(ilos, groq_api_key):\n",
    "    # Préparer le prompt\n",
    "    ilos_formatted = \"\\n\".join(f\"- {ilo}\" for ilo in ilos)\n",
    "    prompt = f\"\"\"\n",
    "Rédigez une description professionnelle et fluide du module qui résume les résultats d'apprentissage sans les répéter mot à mot.\n",
    "La description doit se concentrer sur les compétences et les connaissances que les étudiants acquerront à la fin du module, étant donné les résultats d'apprentissage suivants :\n",
    "{ilos_formatted}\n",
    "\"\"\"\n",
    "\n",
    "    # Définir l'URL de l'API Groq et les en-têtes\n",
    "    url = \"https://api.groq.com/openai/v1/chat/completions\"\n",
    "    headers = {\n",
    "        \"Authorization\": f\"Bearer {groq_api_key}\",\n",
    "        \"Content-Type\": \"application/json\"\n",
    "    }\n",
    "\n",
    "    # Définir la charge utile pour la requête API Groq\n",
    "    payload = {\n",
    "        \"model\": \"llama-3.1-8b-instant\",  # Modèle pris en charge\n",
    "        \"messages\": [\n",
    "            {\"role\": \"system\", \"content\": \"Vous êtes un assistant utile spécialisé dans la rédaction de descriptions professionnelles de modules académiques.\"},\n",
    "            {\"role\": \"user\", \"content\": prompt}\n",
    "        ],\n",
    "        \"temperature\": 0.2,\n",
    "        \"max_tokens\": 300\n",
    "    }\n",
    "\n",
    "    # Effectuer la requête\n",
    "    response = requests.post(url, headers=headers, json=payload)\n",
    "\n",
    "    # Gérer la réponse\n",
    "    if response.status_code == 200:\n",
    "        result = response.json()\n",
    "        description = result['choices'][0]['message']['content']\n",
    "        return description.strip()\n",
    "    else:\n",
    "        raise Exception(f\"Échec de la requête API Groq : {response.status_code} - {response.text}\")\n",
    "\n",
    "# Exemple d'utilisation\n",
    "ilos = [\n",
    "    \"Expliquer comment l'apprentissage par renforcement diffère des autres paradigmes d'apprentissage automatique.\",\n",
    "    \"Décrire les concepts fondamentaux de l'apprentissage par renforcement\",\n",
    "    \"Formuler des problèmes de prise de décision comme des processus de décision markoviens\",\n",
    "    \"Implémenter des algorithmes d'apprentissage par renforcement, y compris la programmation dynamique, les méthodes de Monte Carlo, l'apprentissage par différence temporelle, Q-learning et les réseaux de neurones Q profonds (DQN)\"\n",
    "]\n",
    "\n",
    "# Générer la description du module en utilisant la fonction\n",
    "description = generate_module_description(ilos, groq_api_key)\n",
    "\n",
    "# Afficher la description générée\n",
    "print(\"\\n📚 Description du module générée :\\n\")\n",
    "print(description)\n"
   ]
  }
 ],
 "metadata": {
  "language_info": {
   "name": "python"
  }
 },
 "nbformat": 4,
 "nbformat_minor": 5
}
